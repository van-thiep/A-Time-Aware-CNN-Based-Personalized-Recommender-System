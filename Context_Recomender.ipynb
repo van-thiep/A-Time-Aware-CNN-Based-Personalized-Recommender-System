{
  "nbformat": 4,
  "nbformat_minor": 0,
  "metadata": {
    "colab": {
      "name": "Context Recomender.ipynb",
      "provenance": [],
      "collapsed_sections": [],
      "toc_visible": true,
      "include_colab_link": true
    },
    "kernelspec": {
      "name": "python3",
      "display_name": "Python 3"
    },
    "accelerator": "GPU"
  },
  "cells": [
    {
      "cell_type": "markdown",
      "metadata": {
        "id": "view-in-github",
        "colab_type": "text"
      },
      "source": [
        "<a href=\"https://colab.research.google.com/github/van-thiep/A-Time-Aware-CNN-Based-Personalized-Recommender-System/blob/master/Context_Recomender.ipynb\" target=\"_parent\"><img src=\"https://colab.research.google.com/assets/colab-badge.svg\" alt=\"Open In Colab\"/></a>"
      ]
    },
    {
      "cell_type": "markdown",
      "metadata": {
        "id": "gUtIr78K229q",
        "colab_type": "text"
      },
      "source": [
        "# Overview\n",
        "\n",
        "Trong phần này mình sẽ sử dụng dữ liệu google analytics được thu thập từ một trang báo điện tử để xây dựng hệ thống khuyến nghị (recommendation system) sử dụng  Time-Aware CNN-Based Personalized Recommender System. Tôi cũng sử dụng custom estimator để train, eval and predict. Để có thể tạo custom estimator, các bạn có thể tham khảo tại [Creating Custom Estimators](https://docs.w3cub.com/tensorflow~guide/get_started/custom_estimators/) hoặc [Creating Custom Estimators in TensorFlow](https://developers.googleblog.com/2017/12/creating-custom-estimators-in-tensorflow.html)\n"
      ]
    },
    {
      "cell_type": "markdown",
      "metadata": {
        "id": "ITFsFHX7__TH",
        "colab_type": "text"
      },
      "source": [
        "# Get raw data"
      ]
    },
    {
      "cell_type": "markdown",
      "metadata": {
        "id": "ipocIUt_AR7N",
        "colab_type": "text"
      },
      "source": [
        "## Set up for using big query on google colab"
      ]
    },
    {
      "cell_type": "code",
      "metadata": {
        "id": "F0j5ozneNQBr",
        "colab_type": "code",
        "colab": {
          "base_uri": "https://localhost:8080/",
          "height": 34
        },
        "outputId": "e0f48da6-83bd-4983-8503-41c0d6e101c6"
      },
      "source": [
        "from google.colab import auth\n",
        "auth.authenticate_user()\n",
        "print('Authenticated')"
      ],
      "execution_count": null,
      "outputs": [
        {
          "output_type": "stream",
          "text": [
            "Authenticated\n"
          ],
          "name": "stdout"
        }
      ]
    },
    {
      "cell_type": "markdown",
      "metadata": {
        "id": "F-REyEIFGyfW",
        "colab_type": "text"
      },
      "source": [
        "## Get implicit feedback with context"
      ]
    },
    {
      "cell_type": "code",
      "metadata": {
        "id": "CCrUK1NekoHj",
        "colab_type": "code",
        "colab": {}
      },
      "source": [
        "%%bigquery --project one-mount-group-sql-test implicit_feedback\n",
        "WITH visitor_page_content AS (\n",
        " SELECT  \n",
        "     fullVisitorID ,hits.time,\n",
        "     case \n",
        "     when (extract(hour from timestamp_seconds(visitStartTime))) between 9 and 20\n",
        "     then 'worked_time'\n",
        "     else 'free_time'\n",
        "     end as time_context,\n",
        "     case \n",
        "     when (extract(DAYOFWEEK from timestamp_seconds(visitStartTime))) between 2 and 6\n",
        "     then 'weekday'\n",
        "     else 'weekkend'\n",
        "     end as day_context     ,\n",
        "     (SELECT MAX(IF(index=10, value, NULL)) FROM UNNEST(hits.customDimensions)) AS latestContentId,  \n",
        "     (LEAD(hits.time, 1) OVER (PARTITION BY fullVisitorId ORDER BY hits.time ASC) - hits.time) AS session_duration \n",
        "   FROM `cloud-training-demos.GA360_test.ga_sessions_*`,   \n",
        "     UNNEST(hits) AS hits\n",
        "   WHERE \n",
        "     # only include hits on pages\n",
        "      hits.type = \"PAGE\"\n",
        "       GROUP BY   \n",
        "     fullVisitorId, latestContentId, hits.time,time_context, day_context\n",
        "     order by fullVisitorId, latestContentId\n",
        "     )\n",
        "\n",
        "# aggregate web stats\n",
        "SELECT   \n",
        "  fullVisitorID as visitorId,\n",
        "  latestContentId as contentId,\n",
        "  SUM(session_duration) AS session_duration ,\n",
        "  time_context,\n",
        "  day_context\n",
        " \n",
        "FROM visitor_page_content\n",
        "  WHERE latestContentId IS NOT NULL \n",
        "  GROUP BY fullVisitorID, latestContentId,time_context, day_context\n",
        "  HAVING session_duration > 0\n",
        "  ORDER BY latestContentId"
      ],
      "execution_count": null,
      "outputs": []
    },
    {
      "cell_type": "code",
      "metadata": {
        "id": "NzTzCIc5lQhL",
        "colab_type": "code",
        "colab": {
          "base_uri": "https://localhost:8080/",
          "height": 204
        },
        "outputId": "1fefcd32-a448-4139-a7df-0b4b997e1b88"
      },
      "source": [
        "implicit_feedback.head()"
      ],
      "execution_count": null,
      "outputs": [
        {
          "output_type": "execute_result",
          "data": {
            "text/html": [
              "<div>\n",
              "<style scoped>\n",
              "    .dataframe tbody tr th:only-of-type {\n",
              "        vertical-align: middle;\n",
              "    }\n",
              "\n",
              "    .dataframe tbody tr th {\n",
              "        vertical-align: top;\n",
              "    }\n",
              "\n",
              "    .dataframe thead th {\n",
              "        text-align: right;\n",
              "    }\n",
              "</style>\n",
              "<table border=\"1\" class=\"dataframe\">\n",
              "  <thead>\n",
              "    <tr style=\"text-align: right;\">\n",
              "      <th></th>\n",
              "      <th>visitorId</th>\n",
              "      <th>contentId</th>\n",
              "      <th>session_duration</th>\n",
              "      <th>time_context</th>\n",
              "      <th>day_context</th>\n",
              "    </tr>\n",
              "  </thead>\n",
              "  <tbody>\n",
              "    <tr>\n",
              "      <th>0</th>\n",
              "      <td>7337153711992174438</td>\n",
              "      <td>100074831</td>\n",
              "      <td>44652</td>\n",
              "      <td>worked_time</td>\n",
              "      <td>weekday</td>\n",
              "    </tr>\n",
              "    <tr>\n",
              "      <th>1</th>\n",
              "      <td>5190801220865459604</td>\n",
              "      <td>100170790</td>\n",
              "      <td>1214205</td>\n",
              "      <td>worked_time</td>\n",
              "      <td>weekday</td>\n",
              "    </tr>\n",
              "    <tr>\n",
              "      <th>2</th>\n",
              "      <td>2293633612703952721</td>\n",
              "      <td>100510126</td>\n",
              "      <td>47744</td>\n",
              "      <td>worked_time</td>\n",
              "      <td>weekday</td>\n",
              "    </tr>\n",
              "    <tr>\n",
              "      <th>3</th>\n",
              "      <td>5874973374932455844</td>\n",
              "      <td>100510126</td>\n",
              "      <td>32109</td>\n",
              "      <td>worked_time</td>\n",
              "      <td>weekday</td>\n",
              "    </tr>\n",
              "    <tr>\n",
              "      <th>4</th>\n",
              "      <td>7762128704324316312</td>\n",
              "      <td>100562039</td>\n",
              "      <td>13189</td>\n",
              "      <td>worked_time</td>\n",
              "      <td>weekday</td>\n",
              "    </tr>\n",
              "  </tbody>\n",
              "</table>\n",
              "</div>"
            ],
            "text/plain": [
              "             visitorId  contentId  session_duration time_context day_context\n",
              "0  7337153711992174438  100074831             44652  worked_time     weekday\n",
              "1  5190801220865459604  100170790           1214205  worked_time     weekday\n",
              "2  2293633612703952721  100510126             47744  worked_time     weekday\n",
              "3  5874973374932455844  100510126             32109  worked_time     weekday\n",
              "4  7762128704324316312  100562039             13189  worked_time     weekday"
            ]
          },
          "metadata": {
            "tags": []
          },
          "execution_count": 5
        }
      ]
    },
    {
      "cell_type": "code",
      "metadata": {
        "id": "laGmijQIHkmZ",
        "colab_type": "code",
        "colab": {
          "base_uri": "https://localhost:8080/",
          "height": 317
        },
        "outputId": "434f85d1-89d5-49b3-d4bc-b975aadeebf2"
      },
      "source": [
        "implicit_feedback.describe()"
      ],
      "execution_count": null,
      "outputs": [
        {
          "output_type": "execute_result",
          "data": {
            "text/html": [
              "<div>\n",
              "<style scoped>\n",
              "    .dataframe tbody tr th:only-of-type {\n",
              "        vertical-align: middle;\n",
              "    }\n",
              "\n",
              "    .dataframe tbody tr th {\n",
              "        vertical-align: top;\n",
              "    }\n",
              "\n",
              "    .dataframe thead th {\n",
              "        text-align: right;\n",
              "    }\n",
              "</style>\n",
              "<table border=\"1\" class=\"dataframe\">\n",
              "  <thead>\n",
              "    <tr style=\"text-align: right;\">\n",
              "      <th></th>\n",
              "      <th>session_duration</th>\n",
              "    </tr>\n",
              "  </thead>\n",
              "  <tbody>\n",
              "    <tr>\n",
              "      <th>count</th>\n",
              "      <td>2.808240e+05</td>\n",
              "    </tr>\n",
              "    <tr>\n",
              "      <th>mean</th>\n",
              "      <td>1.263734e+05</td>\n",
              "    </tr>\n",
              "    <tr>\n",
              "      <th>std</th>\n",
              "      <td>2.333036e+05</td>\n",
              "    </tr>\n",
              "    <tr>\n",
              "      <th>min</th>\n",
              "      <td>1.000000e+00</td>\n",
              "    </tr>\n",
              "    <tr>\n",
              "      <th>25%</th>\n",
              "      <td>1.672200e+04</td>\n",
              "    </tr>\n",
              "    <tr>\n",
              "      <th>50%</th>\n",
              "      <td>5.735550e+04</td>\n",
              "    </tr>\n",
              "    <tr>\n",
              "      <th>75%</th>\n",
              "      <td>1.286842e+05</td>\n",
              "    </tr>\n",
              "    <tr>\n",
              "      <th>max</th>\n",
              "      <td>7.690598e+06</td>\n",
              "    </tr>\n",
              "  </tbody>\n",
              "</table>\n",
              "</div>"
            ],
            "text/plain": [
              "       session_duration\n",
              "count      2.808240e+05\n",
              "mean       1.263734e+05\n",
              "std        2.333036e+05\n",
              "min        1.000000e+00\n",
              "25%        1.672200e+04\n",
              "50%        5.735550e+04\n",
              "75%        1.286842e+05\n",
              "max        7.690598e+06"
            ]
          },
          "metadata": {
            "tags": []
          },
          "execution_count": 6
        }
      ]
    },
    {
      "cell_type": "code",
      "metadata": {
        "id": "wrYiLxwFXlUM",
        "colab_type": "code",
        "colab": {
          "base_uri": "https://localhost:8080/",
          "height": 102
        },
        "outputId": "d2453f9f-fd76-4856-a334-550207a0b692"
      },
      "source": [
        "print(implicit_feedback.time_context.value_counts())\n",
        "print(implicit_feedback.day_context.value_counts())\n"
      ],
      "execution_count": null,
      "outputs": [
        {
          "output_type": "stream",
          "text": [
            "worked_time    190239\n",
            "free_time       90585\n",
            "Name: time_context, dtype: int64\n",
            "weekday    280824\n",
            "Name: day_context, dtype: int64\n"
          ],
          "name": "stdout"
        }
      ]
    },
    {
      "cell_type": "markdown",
      "metadata": {
        "id": "5qE8hTOjI8XL",
        "colab_type": "text"
      },
      "source": [
        "Ma trận user-item khá là sparse. Ma trận này có kích thước 82888x5725 trong khi đó ta chỉ có 279564 feedback. SVD sẽ impute các ô bị missing bởi giá trị 0 do đó sẽ đem lại kết quả khá tệ. Gradient Descent thì chậm và khó xử lý các ô bị missing. Trong khi đó WALS sẽ xử lý missing data tốt hơn và nó cũng train nhanh hơn gradient descent nên ta sẽ sd WALS."
      ]
    },
    {
      "cell_type": "code",
      "metadata": {
        "id": "hd47FojLIUbs",
        "colab_type": "code",
        "colab": {
          "base_uri": "https://localhost:8080/",
          "height": 51
        },
        "outputId": "8a68225b-2ad4-42ac-fe30-101b205ee5bc"
      },
      "source": [
        "print(implicit_feedback.visitorId.nunique())\n",
        "print(implicit_feedback.contentId.nunique())"
      ],
      "execution_count": null,
      "outputs": [
        {
          "output_type": "stream",
          "text": [
            "82888\n",
            "5678\n"
          ],
          "name": "stdout"
        }
      ]
    },
    {
      "cell_type": "markdown",
      "metadata": {
        "id": "hvtmderPidyK",
        "colab_type": "text"
      },
      "source": [
        "## Get user feature"
      ]
    },
    {
      "cell_type": "code",
      "metadata": {
        "id": "toE2y4X8iX3x",
        "colab_type": "code",
        "colab": {}
      },
      "source": [
        "%%bigquery --project one-mount-group-sql-test user_feature\n",
        "select fullVisitorId, operatingSystem, mobileDeviceBranding\n",
        "from(\n",
        "select fullVisitorId ,\n",
        "device.operatingSystem,\n",
        "device.mobileDeviceBranding,\n",
        "row_number() over ( partition by fullVisitorId order by device.operatingSystem) as row_number_\n",
        "FROM `cloud-training-demos.GA360_test.ga_sessions_*` \n",
        "order by fullVisitorId DESC)t\n",
        "where row_number_ =1"
      ],
      "execution_count": null,
      "outputs": []
    },
    {
      "cell_type": "code",
      "metadata": {
        "id": "4jIVxk0jyQoG",
        "colab_type": "code",
        "colab": {
          "base_uri": "https://localhost:8080/",
          "height": 204
        },
        "outputId": "a38d0ddc-3370-4887-b8a4-3e69ae58960d"
      },
      "source": [
        "user_feature.head()"
      ],
      "execution_count": null,
      "outputs": [
        {
          "output_type": "execute_result",
          "data": {
            "text/html": [
              "<div>\n",
              "<style scoped>\n",
              "    .dataframe tbody tr th:only-of-type {\n",
              "        vertical-align: middle;\n",
              "    }\n",
              "\n",
              "    .dataframe tbody tr th {\n",
              "        vertical-align: top;\n",
              "    }\n",
              "\n",
              "    .dataframe thead th {\n",
              "        text-align: right;\n",
              "    }\n",
              "</style>\n",
              "<table border=\"1\" class=\"dataframe\">\n",
              "  <thead>\n",
              "    <tr style=\"text-align: right;\">\n",
              "      <th></th>\n",
              "      <th>fullVisitorId</th>\n",
              "      <th>operatingSystem</th>\n",
              "      <th>mobileDeviceBranding</th>\n",
              "    </tr>\n",
              "  </thead>\n",
              "  <tbody>\n",
              "    <tr>\n",
              "      <th>0</th>\n",
              "      <td>999934775220172145</td>\n",
              "      <td>iOS</td>\n",
              "      <td>Apple</td>\n",
              "    </tr>\n",
              "    <tr>\n",
              "      <th>1</th>\n",
              "      <td>999913429338991943</td>\n",
              "      <td>iOS</td>\n",
              "      <td>Apple</td>\n",
              "    </tr>\n",
              "    <tr>\n",
              "      <th>2</th>\n",
              "      <td>999912192389086600</td>\n",
              "      <td>Windows</td>\n",
              "      <td>None</td>\n",
              "    </tr>\n",
              "    <tr>\n",
              "      <th>3</th>\n",
              "      <td>9999098083394520648</td>\n",
              "      <td>Android</td>\n",
              "      <td>HTC</td>\n",
              "    </tr>\n",
              "    <tr>\n",
              "      <th>4</th>\n",
              "      <td>9999092790778559950</td>\n",
              "      <td>iOS</td>\n",
              "      <td>Apple</td>\n",
              "    </tr>\n",
              "  </tbody>\n",
              "</table>\n",
              "</div>"
            ],
            "text/plain": [
              "         fullVisitorId operatingSystem mobileDeviceBranding\n",
              "0   999934775220172145             iOS                Apple\n",
              "1   999913429338991943             iOS                Apple\n",
              "2   999912192389086600         Windows                 None\n",
              "3  9999098083394520648         Android                  HTC\n",
              "4  9999092790778559950             iOS                Apple"
            ]
          },
          "metadata": {
            "tags": []
          },
          "execution_count": 10
        }
      ]
    },
    {
      "cell_type": "markdown",
      "metadata": {
        "id": "oePQ8xVA7Gsj",
        "colab_type": "text"
      },
      "source": [
        "## Get item feature"
      ]
    },
    {
      "cell_type": "code",
      "metadata": {
        "id": "mnm2LOqw7GKs",
        "colab_type": "code",
        "colab": {}
      },
      "source": [
        "%%bigquery --project one-mount-group-sql-test item_feature\n",
        "   select t2.artical_Id, t2.artical_author, t2.artical_name, t2.artical_category\n",
        "   from(\n",
        "   select t1.*, row_number() over ( partition by artical_Id order by artical_name) as row_number_\n",
        "   from(\n",
        "   SELECT  \n",
        "     \n",
        "     (SELECT MAX(IF(index=10, value, NULL)) FROM UNNEST(hits.customDimensions)) AS artical_Id,\n",
        "     (SELECT MAX(IF(index=2, value, NULL)) FROM UNNEST(hits.customDimensions)) AS artical_author,\n",
        "     (SELECT MAX(IF(index=6, value, NULL)) FROM UNNEST(hits.customDimensions)) AS artical_name,\n",
        "     (SELECT MAX(IF(index=7, value, NULL)) FROM UNNEST(hits.customDimensions)) AS artical_category\n",
        "     \n",
        "   FROM `cloud-training-demos.GA360_test.ga_sessions_*`,   \n",
        "   UNNEST(hits) AS hits)t1)t2\n",
        "   where artical_Id is not null and row_number_ = 1"
      ],
      "execution_count": null,
      "outputs": []
    },
    {
      "cell_type": "code",
      "metadata": {
        "id": "cXpwL1E68y3P",
        "colab_type": "code",
        "colab": {
          "base_uri": "https://localhost:8080/",
          "height": 204
        },
        "outputId": "46525345-59d9-4187-e881-da0235eea569"
      },
      "source": [
        "item_feature.head()"
      ],
      "execution_count": null,
      "outputs": [
        {
          "output_type": "execute_result",
          "data": {
            "text/html": [
              "<div>\n",
              "<style scoped>\n",
              "    .dataframe tbody tr th:only-of-type {\n",
              "        vertical-align: middle;\n",
              "    }\n",
              "\n",
              "    .dataframe tbody tr th {\n",
              "        vertical-align: top;\n",
              "    }\n",
              "\n",
              "    .dataframe thead th {\n",
              "        text-align: right;\n",
              "    }\n",
              "</style>\n",
              "<table border=\"1\" class=\"dataframe\">\n",
              "  <thead>\n",
              "    <tr style=\"text-align: right;\">\n",
              "      <th></th>\n",
              "      <th>artical_Id</th>\n",
              "      <th>artical_author</th>\n",
              "      <th>artical_name</th>\n",
              "      <th>artical_category</th>\n",
              "    </tr>\n",
              "  </thead>\n",
              "  <tbody>\n",
              "    <tr>\n",
              "      <th>0</th>\n",
              "      <td>100342140</td>\n",
              "      <td>Daniela Davidovits</td>\n",
              "      <td>7 Tipps: Erstes Handy für mein Kind</td>\n",
              "      <td>Lifestyle</td>\n",
              "    </tr>\n",
              "    <tr>\n",
              "      <th>1</th>\n",
              "      <td>10044260</td>\n",
              "      <td>Mathias Morscher</td>\n",
              "      <td>Gordon Ramsay: Der fiese Fernsehkoch und seine...</td>\n",
              "      <td>Stars &amp; Kultur</td>\n",
              "    </tr>\n",
              "    <tr>\n",
              "      <th>2</th>\n",
              "      <td>100703139</td>\n",
              "      <td>Alice Hohl</td>\n",
              "      <td>Haarschnitt nötig? Am 8. Dezember gibt’s Geleg...</td>\n",
              "      <td>News</td>\n",
              "    </tr>\n",
              "    <tr>\n",
              "      <th>3</th>\n",
              "      <td>100854465</td>\n",
              "      <td>Johannes Weichhart</td>\n",
              "      <td>Ticket-Verlust kommt Kunden teuer</td>\n",
              "      <td>News</td>\n",
              "    </tr>\n",
              "    <tr>\n",
              "      <th>4</th>\n",
              "      <td>100950628</td>\n",
              "      <td>Martin Burger</td>\n",
              "      <td>Heiliger Nikolaus: Erzbischof aus der Provinz,...</td>\n",
              "      <td>Lifestyle</td>\n",
              "    </tr>\n",
              "  </tbody>\n",
              "</table>\n",
              "</div>"
            ],
            "text/plain": [
              "  artical_Id  ... artical_category\n",
              "0  100342140  ...        Lifestyle\n",
              "1   10044260  ...   Stars & Kultur\n",
              "2  100703139  ...             News\n",
              "3  100854465  ...             News\n",
              "4  100950628  ...        Lifestyle\n",
              "\n",
              "[5 rows x 4 columns]"
            ]
          },
          "metadata": {
            "tags": []
          },
          "execution_count": 12
        }
      ]
    },
    {
      "cell_type": "markdown",
      "metadata": {
        "id": "hudx5jsX-DK1",
        "colab_type": "text"
      },
      "source": [
        "## Input data"
      ]
    },
    {
      "cell_type": "code",
      "metadata": {
        "id": "bSLr6HzhKjNC",
        "colab_type": "code",
        "colab": {
          "base_uri": "https://localhost:8080/",
          "height": 462
        },
        "outputId": "b2b5886f-223f-434f-f760-86376fe65f31"
      },
      "source": [
        "import pandas as pd\n",
        "\n",
        "input_data = pd.merge(implicit_feedback,item_feature, how = 'inner', left_on = 'contentId', right_on = 'artical_Id')\n",
        "input_data = pd.merge(input_data, user_feature, how = 'inner', left_on = 'visitorId', right_on = 'fullVisitorId')\n",
        "\n",
        "input_data.drop(['artical_Id','fullVisitorId'],axis=1, inplace=True)\n",
        "input_data.head()"
      ],
      "execution_count": null,
      "outputs": [
        {
          "output_type": "execute_result",
          "data": {
            "text/html": [
              "<div>\n",
              "<style scoped>\n",
              "    .dataframe tbody tr th:only-of-type {\n",
              "        vertical-align: middle;\n",
              "    }\n",
              "\n",
              "    .dataframe tbody tr th {\n",
              "        vertical-align: top;\n",
              "    }\n",
              "\n",
              "    .dataframe thead th {\n",
              "        text-align: right;\n",
              "    }\n",
              "</style>\n",
              "<table border=\"1\" class=\"dataframe\">\n",
              "  <thead>\n",
              "    <tr style=\"text-align: right;\">\n",
              "      <th></th>\n",
              "      <th>visitorId</th>\n",
              "      <th>contentId</th>\n",
              "      <th>session_duration</th>\n",
              "      <th>time_context</th>\n",
              "      <th>day_context</th>\n",
              "      <th>artical_author</th>\n",
              "      <th>artical_name</th>\n",
              "      <th>artical_category</th>\n",
              "      <th>operatingSystem</th>\n",
              "      <th>mobileDeviceBranding</th>\n",
              "    </tr>\n",
              "  </thead>\n",
              "  <tbody>\n",
              "    <tr>\n",
              "      <th>0</th>\n",
              "      <td>7337153711992174438</td>\n",
              "      <td>100074831</td>\n",
              "      <td>44652</td>\n",
              "      <td>worked_time</td>\n",
              "      <td>weekday</td>\n",
              "      <td>None</td>\n",
              "      <td>KURIER Adventkalender 2014</td>\n",
              "      <td>None</td>\n",
              "      <td>Windows</td>\n",
              "      <td>None</td>\n",
              "    </tr>\n",
              "    <tr>\n",
              "      <th>1</th>\n",
              "      <td>7337153711992174438</td>\n",
              "      <td>297150793</td>\n",
              "      <td>10076</td>\n",
              "      <td>worked_time</td>\n",
              "      <td>weekday</td>\n",
              "      <td>Maria Zelenko</td>\n",
              "      <td>Die besten Beauty-Adventkalender 2017</td>\n",
              "      <td>None</td>\n",
              "      <td>Windows</td>\n",
              "      <td>None</td>\n",
              "    </tr>\n",
              "    <tr>\n",
              "      <th>2</th>\n",
              "      <td>7337153711992174438</td>\n",
              "      <td>297393989</td>\n",
              "      <td>33729</td>\n",
              "      <td>worked_time</td>\n",
              "      <td>weekday</td>\n",
              "      <td>Ingrid Teufl</td>\n",
              "      <td>Diese besonderen Adventkalender müssen Sie haben</td>\n",
              "      <td>None</td>\n",
              "      <td>Windows</td>\n",
              "      <td>None</td>\n",
              "    </tr>\n",
              "    <tr>\n",
              "      <th>3</th>\n",
              "      <td>5190801220865459604</td>\n",
              "      <td>100170790</td>\n",
              "      <td>1214205</td>\n",
              "      <td>worked_time</td>\n",
              "      <td>weekday</td>\n",
              "      <td>None</td>\n",
              "      <td>ORF-Zentralbetriebsrat stimmt neuem Kollektivv...</td>\n",
              "      <td>News</td>\n",
              "      <td>iOS</td>\n",
              "      <td>Apple</td>\n",
              "    </tr>\n",
              "    <tr>\n",
              "      <th>4</th>\n",
              "      <td>5190801220865459604</td>\n",
              "      <td>277596667</td>\n",
              "      <td>20501</td>\n",
              "      <td>worked_time</td>\n",
              "      <td>weekday</td>\n",
              "      <td>Philipp Wilhelmer</td>\n",
              "      <td>Heikle Personalfragen im ORF</td>\n",
              "      <td>Stars &amp; Kultur</td>\n",
              "      <td>iOS</td>\n",
              "      <td>Apple</td>\n",
              "    </tr>\n",
              "  </tbody>\n",
              "</table>\n",
              "</div>"
            ],
            "text/plain": [
              "             visitorId  contentId  ...  operatingSystem mobileDeviceBranding\n",
              "0  7337153711992174438  100074831  ...          Windows                 None\n",
              "1  7337153711992174438  297150793  ...          Windows                 None\n",
              "2  7337153711992174438  297393989  ...          Windows                 None\n",
              "3  5190801220865459604  100170790  ...              iOS                Apple\n",
              "4  5190801220865459604  277596667  ...              iOS                Apple\n",
              "\n",
              "[5 rows x 10 columns]"
            ]
          },
          "metadata": {
            "tags": []
          },
          "execution_count": 5
        }
      ]
    },
    {
      "cell_type": "code",
      "metadata": {
        "id": "qvqu9EYZj37R",
        "colab_type": "code",
        "colab": {}
      },
      "source": [
        "input_data.fillna('other', inplace=True)"
      ],
      "execution_count": null,
      "outputs": []
    },
    {
      "cell_type": "code",
      "metadata": {
        "id": "PtC57JRjgaR9",
        "colab_type": "code",
        "colab": {}
      },
      "source": [
        "input_data_1 = input_data.copy()\n",
        "\n",
        "input_data_1.drop(['visitorId','contentId','day_context'],axis=1, inplace=True)"
      ],
      "execution_count": null,
      "outputs": []
    },
    {
      "cell_type": "markdown",
      "metadata": {
        "id": "ChJ3y2KlfPbk",
        "colab_type": "text"
      },
      "source": [
        "## Save file"
      ]
    },
    {
      "cell_type": "code",
      "metadata": {
        "id": "YQz0w7elfOKW",
        "colab_type": "code",
        "colab": {}
      },
      "source": [
        "def write_list_to_disk(list_, filename):\n",
        "  with open(filename, mode='w') as f:\n",
        "    for item in list_:\n",
        "      line = '%s\\n' % item\n",
        "      f.write(line)\n",
        "\n",
        "columns = ['time_context', 'artical_author', 'artical_name',\n",
        "          'artical_category','operatingSystem','mobileDeviceBranding']\n",
        "\n",
        "all_list = []\n",
        "for column in columns:\n",
        "  list_ = list(input_data[column].unique())\n",
        "  all_list.append(list_)\n",
        "\n",
        "for i in range(len(columns)):\n",
        "  filename = 'unique_' + columns[i] + '.txt'\n",
        "  list_ = all_list[i]\n",
        "  write_list_to_disk(list_,filename)"
      ],
      "execution_count": null,
      "outputs": []
    },
    {
      "cell_type": "code",
      "metadata": {
        "id": "l2bMiF9QoNiv",
        "colab_type": "code",
        "colab": {}
      },
      "source": [
        "train_size = int(input_data_1.shape[0]*0.9)\n",
        "\n",
        "train_data_1 = input_data.iloc[:train_size, :]\n",
        "train_data_1.to_csv('train_data.csv', index=False, encoding='utf-8')\n",
        "\n",
        "test_data_1 = input_data.iloc[train_size:, :]\n",
        "test_data_1.to_csv('test_data.csv', index = False, encoding='utf-8')"
      ],
      "execution_count": null,
      "outputs": []
    },
    {
      "cell_type": "markdown",
      "metadata": {
        "id": "p8M63SDk-Qf1",
        "colab_type": "text"
      },
      "source": [
        "# Build recommender using custom estimator \n",
        "\n",
        "Trong phần này thay vì sử dụng keras mình sẽ sử dụng  tf.estimator.Estimator để train , eval và predict model. Mỗi estimator sẽ bao gồm 4 phần:\n",
        "\n",
        "1. Viết input function: \n",
        "\n",
        "Hàm này có mục đích là chuyển dataset thành dạng dictionary với keys là feature names, values là Tensor ( SparseTensor) chứa feature data tương ứng. Còn labels sẽ là Tensor chứa labels.\n",
        "\n",
        "2. Tạo Feature columns: \n",
        "\n",
        "[Feature columns](https://www.tensorflow.org/tutorials/structured_data/feature_columns) có chức năng là transform data , đặc biệt là categorical data ví dụ như one-hot encoding. Input của feature column phải ở dưới dạng dict. Do đó trong bước 1 ta mới cần chuyển dataset sang dict. Output của bước này sẽ được sử dụng làm input cho function model được tạo trong phần 3.\n",
        "\n",
        "3. Create the model and train/evaluate:\n",
        "\n",
        "Trong phần này có 2 loại. Loại thứ nhất là khởi tạo pre-made estimator ( sử dụng những estimator được xây dựng sẵn). Loại thứ 2 là tự xây dựng estimator. Để xây dụng estimator ta sẽ sử dụng [tf.estimator.Estimator](https://www.tensorflow.org/api_docs/python/tf/estimator/EstimatorSpec) .Input của tf.estimator.Estimator là model function. Do đó trong phần này ta sẽ xây dựng model function. Hàm này sẽ trả lại đối tượng [tf.estimator.EstimatorSpec](https://www.tensorflow.org/api_docs/python/tf/estimator/EstimatorSpec). tf.estimator.EstimatorSpec có 3 loại ( 3 mode) tương ứng với 3 nhiệm vụ là train, eval và predict.\n",
        "\n",
        "4. Train and Evaluate:\n",
        "\n",
        "Trong phần này ta sẽ sử dụng model function được xây dựng ở phần 3 để tạo estimator. Sau đó sử dụng estimator đó.\n",
        "\n",
        "Để hiểu kĩ hơn về estimator các bạn có thể tham khảo , b[tại đây](https://www.tensorflow.org/guide/estimator#structure_of_a_pre-made_estimators_program)\n"
      ]
    },
    {
      "cell_type": "markdown",
      "metadata": {
        "id": "qACHy_MkZxQu",
        "colab_type": "text"
      },
      "source": [
        "## Input function \n",
        "\n",
        "Input pipelines là tập hợp các bước từ raw data đến khi dữ liệu được đưa vào model. Lớp [tf.data](https://www.tensorflow.org/api_docs/python/tf/data?version=nightly) cho phép ta xây dựng input pipelines phức tạp. Để xây dựng input pipeline, đầu tiên ta bắt đầu với raw data. Sau đó ta cần chuyển raw data sang dataset object ( sử dụng [tf.data.Dataset](https://www.tensorflow.org/api_docs/python/tf/data/Dataset?version=nightly)) để có thể sử dụng các method của dataset object. Dataset object cung cấp rất nhiều method hưu ích giúp transform raw data như batch, map, shuffle,...Ngoài giúp transform data, tf.data còn cung cấp nhiều methos hữu ích giúp xử lý big data, tăng performance của input pipelines.\n",
        "\n",
        "The tf.data API introduces a tf.data.Dataset abstraction that represents a sequence of elements, in which each element consists of one or more components. For example, in an image pipeline, an element might be a single training example, with a pair of tensor components representing the image and its label\n",
        "\n",
        "\n",
        "Ở bên dưới ta sử dụng [tf.data.TextLineDataset](https://www.tensorflow.org/api_docs/python/tf/data/TextLineDataset) thay vì tf.data.Dataset để tạo input pipeline. tf.data.TextLineDataset tương tự với tf.data.Dataset nhưng tf.data.TextLineDataset kiểu dành riêng cho file text (vd như csv ). ![image7.jpg](data:image/jpeg;base64,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)\n",
        "\n",
        "Ở bên dưới ta sử dụng method map của tf.data.TextLineDataset để chuyển dữ liệu sang dạng dict. Ngoài ra ta còn áp dụng các method khác như shuffle, repeat, batch,..\n",
        "\n",
        "Để có thể hiểu rõ hơn về tf.data ta có thể tham khảo  [tại đây](https://www.tensorflow.org/guide/data). Thật ra tf.data khá giống với preprocessing trong sklearn. Nhưng khả năng là nó cung cấp nhiều metho hữu ích hơn, ko chỉ transform data mà còn giúp handle large data, remote data,..\n",
        "\n",
        "Ngoai ra đây là một số ví dụ giúp bạn hiểu rõ hơn decode_csv [Python tensorflow.decode_csv() Examples](https://www.programcreek.com/python/example/90570/tensorflow.decode_csv)\n"
      ]
    },
    {
      "cell_type": "code",
      "metadata": {
        "id": "0zweurgBZv-0",
        "colab_type": "code",
        "colab": {}
      },
      "source": [
        "record_defaults = [ [1], ['object'], ['object']\n",
        "                   , ['object'], ['object'], ['object'], ['object']]\n",
        "columns_key = [ 'session_duration','time_context',\n",
        "                      'artical_author', 'artical_name',\n",
        "                     'artical_category ', 'operatingSystem', 'mobileDeviceBranding']\n",
        "label_key = 'session_duration'\n",
        "#features = {}\n",
        "#abels = []\n",
        "def read_dataset(filename, mode, batch_size = 512):\n",
        "    def input_function():\n",
        "        def decode_csv(value_column):\n",
        "            columns = tf.io.decode_csv(value_column, record_defaults = record_defaults)\n",
        "            features = dict(zip(columns_key,columns))\n",
        "            labels = features.pop(label_key)\n",
        "      \n",
        "            return features, labels\n",
        "\n",
        "        file_list = tf.io.gfile.glob(filename)\n",
        "        # Dòng code này chuyển data sang dạng dict bằng cách áp dụng hàm decode_csv \n",
        "        # đối với mỗi row/record của file text ( trong trường hợp này là csv)\n",
        "        dataset = tf.data.TextLineDataset(file_list).skip(1).map(decode_csv)\n",
        "\n",
        "        if mode == tf.estimator.ModeKeys.TRAIN:\n",
        "            num_epochs = None\n",
        "            dataset = dataset.shuffle(buffer_size = 10*batch_size)\n",
        "        else:\n",
        "            num_epochs = 1\n",
        "\n",
        "        dataset = dataset.repeat(num_epochs).batch(batch_size)\n",
        "        dataset = tf.compat.v1.data.make_one_shot_iterator(dataset).get_next()\n",
        "        return dataset\n",
        "    return input_function"
      ],
      "execution_count": null,
      "outputs": []
    },
    {
      "cell_type": "markdown",
      "metadata": {
        "id": "Cv8g_EwF_nH4",
        "colab_type": "text"
      },
      "source": [
        "##Create feature columns"
      ]
    },
    {
      "cell_type": "code",
      "metadata": {
        "id": "W6gH0Vj3-Os3",
        "colab_type": "code",
        "colab": {}
      },
      "source": [
        "import numpy as np\n",
        "import pandas as pd\n",
        "import tensorflow as tf\n",
        "from tensorflow import feature_column\n",
        "from tensorflow.keras import layers\n",
        "import tensorflow_hub as hub\n",
        "\n",
        "# user_feature_column\n",
        "# one-hot encoding\n",
        "operatingSystem_column = feature_column.indicator_column(\n",
        "    feature_column.categorical_column_with_vocabulary_list(\n",
        "        key='operatingSystem', vocabulary_list= input_data.operatingSystem.unique()\n",
        "    ))\n",
        "\n",
        "# Embedding\n",
        "mobileDeviceBranding_column = feature_column.embedding_column(\n",
        "    feature_column.categorical_column_with_vocabulary_list(\n",
        "        key = 'mobileDeviceBranding', vocabulary_list= input_data.mobileDeviceBranding.unique()),\n",
        "        dimension=10\n",
        "    ) \n",
        "\n",
        "user_feature_column = [operatingSystem_column, mobileDeviceBranding_column]\n",
        "\n",
        "# item_feature_column\n",
        "artical_author_column = feature_column.embedding_column(\n",
        "    feature_column.categorical_column_with_vocabulary_list(\n",
        "        key = 'artical_author',\n",
        "        vocabulary_list = input_data.artical_author.unique()),20\n",
        ")\n",
        "\n",
        "artical_category_column = feature_column.indicator_column(\n",
        "    feature_column.categorical_column_with_vocabulary_list(\n",
        "        key = 'artical_category',\n",
        "        vocabulary_list = input_data.artical_category.unique()\n",
        "    )\n",
        ")\n",
        "# use pre-train model to get 50 dimensions embedding vector of artical_nam \n",
        "artical_name_column = hub.text_embedding_column(\n",
        "    key=\"artical_name\", \n",
        "    module_spec=\"https://tfhub.dev/google/nnlm-de-dim50/1\",\n",
        "    trainable=False\n",
        ")\n",
        "\n",
        "item_feature_column = [artical_author_column,artical_category_column]\n",
        "\n",
        "#context_feature_column \n",
        "context_feature_column = feature_column.indicator_column(\n",
        "    feature_column.categorical_column_with_vocabulary_list(\n",
        "        key = 'time_context',\n",
        "        vocabulary_list = input_data.time_context.unique()\n",
        "    )\n",
        ")"
      ],
      "execution_count": null,
      "outputs": []
    },
    {
      "cell_type": "markdown",
      "metadata": {
        "id": "25e73-BfkINE",
        "colab_type": "text"
      },
      "source": [
        "## Create the model and train/evaluate"
      ]
    },
    {
      "cell_type": "code",
      "metadata": {
        "id": "rFQHdwGskHhd",
        "colab_type": "code",
        "colab": {}
      },
      "source": [
        "def model_function(features, labels, mode, params):\n",
        "    #Compute final logits\n",
        "    user_feature = tf.compat.v1.feature_column.input_layer(features, params['user_feature_columns']) \n",
        "    for i in params['user_hidden_units']:\n",
        "        user_feature = tf.compat.v1.layers.Dense( units = i, activation = tf.nn.relu)(user_feature)\n",
        "    user_logits = tf.compat.v1.layers.Dense( units = 20, activation = None)(user_feature)\n",
        "\n",
        "\n",
        "    item_feature = tf.compat.v1.feature_column.input_layer(features, params['item_feature_columns']) \n",
        "    for i in params['item_hidden_units']:\n",
        "        item_feature = tf.compat.v1.layers.Dense( units = i, activation = tf.nn.relu)(user_feature)\n",
        "    item_logits = tf.compat.v1.layers.Dense(units = 20, activation = None)(item_feature)\n",
        "\n",
        "    context_logits = tf.compat.v1.feature_column.input_layer(features, params['context_feature_columns']) \n",
        "\n",
        "    final_feature = tf.concat([user_logits,item_logits, context_logits],1)\n",
        "\n",
        "    final_feature = tf.compat.v1.layers.Dense( units = 256, activation = tf.nn.relu)(final_feature)\n",
        "    final_feature = tf.compat.v1.layers.Dropout(0.5)\n",
        "    final_feature = tf.compat.v1.layers.Dense( units = 256, activation = tf.nn.relu)(final_feature)\n",
        "    final_feature = tf.compat.v1.layers.Dropout(0.6)\n",
        "    final_feature = tf.compat.v1.layers.Dense( units = 128, activation = tf.nn.relu)(final_feature)\n",
        "    final_feature = tf.compat.v1.layers.Dropout(0.7)\n",
        "    final_feature = tf.compat.v1.layers.Dense( units = 64, activation = tf.nn.relu)(final_feature)\n",
        "\n",
        "    final_logits = tf.compat.v1.layers.Dense( units = 1, activation = None)(final_feature)\n",
        "    \n",
        "\n",
        "    if mode == tf.estimator.ModeKeys.PREDICT:\n",
        "        return tf.estimator.EstimatorSpec(mode, predictions = final_logits)\n",
        "\n",
        "    #Compute loss\n",
        "    loss = tf.losses.mean_squared_error(labels, final_logits)\n",
        "\n",
        "    # Compute evaluation matrics\n",
        "    mae = tf.metrics.mean_squared_error(labels, final_logits)\n",
        "    mse = tf.metrics.mean_absolute_error(labels, final_logits)\n",
        "    metrics = {'mae':mae, 'mse':mse}\n",
        "\n",
        "    if mode == tf.estimator.ModeKeys.EVAL:\n",
        "        return tf.estimator.EstimatorSpec(mode, loss = loss, eval_metric_ops = metrics)\n",
        "\n",
        "    #Create training\n",
        "    assert mode == tf.estimator.ModeKeys.TRAIN\n",
        "    optimizer = tf.train.AdamOptimizer()\n",
        "    train_op = optimizer.minimize(loss, global_step=tf.train.get_global_step())\n",
        "    return tf.estimator.EstimatorSpec(mode, loss=loss, train_op=train_op)"
      ],
      "execution_count": null,
      "outputs": []
    },
    {
      "cell_type": "markdown",
      "metadata": {
        "id": "T0_SXo2yLuQ0",
        "colab_type": "text"
      },
      "source": [
        "## Train and evaluate"
      ]
    },
    {
      "cell_type": "code",
      "metadata": {
        "id": "jlmDGw4LLspt",
        "colab_type": "code",
        "colab": {}
      },
      "source": [
        "outdir = 'context_deep_learning_recomender'\n",
        "import shutil\n",
        "shutil.rmtree(outdir, ignore_errors = True)\n",
        "\n",
        "estimator = tf.estimator.Estimator(\n",
        "    model_fn=model_function,\n",
        "    model_dir = outdir,\n",
        "    params={\n",
        "     'user_feature_columns': user_feature_column,\n",
        "     'item_feature_columns': item_feature_column,\n",
        "     'context_feature_columns': context_feature_column,\n",
        "      'user_hidden_units': [256, 128, 64],\n",
        "      'item_hidden_units': [256, 128, 64]\n",
        "    })\n",
        "\n",
        "train_spec = tf.estimator.TrainSpec(\n",
        "    input_fn = read_dataset(\"train_data.csv\", tf.estimator.ModeKeys.TRAIN),\n",
        "    max_steps = 2000)\n",
        "\n",
        "eval_spec = tf.estimator.EvalSpec(\n",
        "    input_fn = read_dataset(\"test_data.csv\", tf.estimator.ModeKeys.EVAL),\n",
        "    steps = None,\n",
        "    start_delay_secs = 30,\n",
        "    throttle_secs = 60)\n",
        "\n",
        "tf.estimator.train_and_evaluate(estimator, train_spec, eval_spec)"
      ],
      "execution_count": null,
      "outputs": []
    },
    {
      "cell_type": "markdown",
      "metadata": {
        "id": "laCol-bZXLll",
        "colab_type": "text"
      },
      "source": [
        "# Build recomemender using keras"
      ]
    },
    {
      "cell_type": "code",
      "metadata": {
        "id": "trI2lS8BaEAJ",
        "colab_type": "code",
        "colab": {}
      },
      "source": [
        "from tensorflow import keras\n",
        "from keras.backend import cast\n",
        "params={\n",
        "  'user_hidden_units': [256, 128, 64],\n",
        "  'item_hidden_units': [256, 128, 64]\n",
        "}\n",
        "\n",
        "user_feature_layer = keras.layers.DenseFeatures(user_feature_column) \n",
        "user_feature_input = {\n",
        "    'operatingSystem':tf.keras.Input((1,), dtype=tf.dtypes.string, name='operatingSystem'),\n",
        "    'mobileDeviceBranding':tf.keras.Input((1,), dtype=tf.dtypes.string, name='mobileDeviceBranding')\n",
        "}\n",
        "user_input = user_feature_layer(user_feature_input)\n",
        "for i in params['user_hidden_units']:\n",
        "    user_input = keras.layers.Dense( units = i, activation = 'relu')(user_input)\n",
        "user_logits = keras.layers.Dense( units = 20, activation = None)(user_input)\n",
        "user_logits = keras.layers.Lambda(lambda x:cast(x, 'float32'), name='user_logits')(user_logits)\n",
        "\n",
        "\n",
        "item_feature_layer = keras.layers.DenseFeatures(item_feature_column) \n",
        "item_feature_input = {\n",
        "    'artical_author':tf.keras.Input((1,), dtype=tf.dtypes.string, name='artical_author'),\n",
        "    'artical_category':tf.keras.Input((1,), dtype=tf.dtypes.string, name='artical_category')\n",
        "    \n",
        "}\n",
        "item_input = item_feature_layer(item_feature_input)\n",
        "for i in params['item_hidden_units']:\n",
        "    item_input =keras.layers.Dense( units = i, activation = 'relu')(item_input)\n",
        "item_logits =keras.layers.Dense(units = 20, activation = None)(item_input)\n",
        "item_logits = keras.layers.Lambda(lambda x:cast(x, 'float32'), name='item_logits')(item_logits)\n",
        "\n",
        "\n",
        "context_feature_layers = keras.layers.DenseFeatures(context_feature_column) \n",
        "context_feature_input = {\n",
        "    'time_context':tf.keras.Input((1,), dtype=tf.dtypes.string, name='time_context')\n",
        "}\n",
        "context_input = context_feature_layers(context_feature_input)\n",
        "final_feature = keras.layers.concatenate([user_logits,item_logits],-1)\n",
        "\n",
        "final_feature = keras.layers.Dense( units = 256, activation = tf.nn.relu)(final_feature)\n",
        "#final_feature = keras.layers.Dropout(0.5)\n",
        "final_feature = keras.layers.Dense( units = 256, activation = tf.nn.relu)(final_feature)\n",
        "#final_feature = keras.layers.Dropout(0.6)\n",
        "final_feature = keras.layers.Dense( units = 128, activation = tf.nn.relu)(final_feature)\n",
        "#final_feature = keras.layers.Dropout(0.7)\n",
        "final_feature = keras.layers.Dense( units = 64, activation = tf.nn.relu)(final_feature)\n",
        "\n",
        "final_logits = keras.layers.Dense( units = 1, activation = None)(final_feature)\n",
        "model = tf.keras.Model([user_input, item_input], final_logits)\n"
      ],
      "execution_count": null,
      "outputs": []
    },
    {
      "cell_type": "code",
      "metadata": {
        "id": "eobO7RPRakRf",
        "colab_type": "code",
        "colab": {}
      },
      "source": [
        "model = tf.keras.Model([user_features, item_features, context_features], final_logits)\n",
        "\n",
        "model.compile(loss='mean_squared_error', optimizer='adam',\n",
        "              metrics = ['mse','mae'])\n"
      ],
      "execution_count": null,
      "outputs": []
    }
  ]
}